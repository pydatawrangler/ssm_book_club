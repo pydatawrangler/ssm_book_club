{
 "cells": [
  {
   "cell_type": "markdown",
   "id": "1f7b8444",
   "metadata": {
    "slideshow": {
     "slide_type": "slide"
    }
   },
   "source": [
    "# Discrete HMMs"
   ]
  },
  {
   "cell_type": "markdown",
   "id": "1d828aa9",
   "metadata": {
    "slideshow": {
     "slide_type": "slide"
    }
   },
   "source": [
    "## Agenda\n",
    "* Key ideas and words\n",
    "* HMM Overview\n",
    "  * What confused me\n",
    "* How I'm approaching this\n",
    "* Going through examples\n",
    "  * State estimation\n",
    "  * Parameter estimation\n",
    "* Where I would use Dynamax in my past career\n",
    "  * Practical considerations\n",
    "* Updated Book Club Focus"
   ]
  },
  {
   "cell_type": "markdown",
   "id": "6bb17537",
   "metadata": {
    "slideshow": {
     "slide_type": "slide"
    }
   },
   "source": [
    "## Summary\n",
    "* HMM can be confusing, especially between implementations and texts\n",
    "* Dynamax's implementation is quite good\n",
    "  * Their docs are great for practitioners\n",
    "* JAX is used liberally throughout the library for speedups\n",
    "* There's many different implementations\n",
    "  * More than I had originally expected"
   ]
  },
  {
   "cell_type": "markdown",
   "id": "1b06f411",
   "metadata": {
    "slideshow": {
     "slide_type": "slide"
    }
   },
   "source": [
    "## References\n",
    "* This repo https://github.com/canyon289/ssm_book_club\n",
    "*  Casino HMMs from Dynamax\n",
    "    *  https://probml.github.io/dynamax/notebooks/hmm/casino_hmm_inference.html\n",
    "    * https://probml.github.io/dynamax/notebooks/hmm/casino_hmm_learning.html\n",
    "*  Complete reading of https://nipunbatra.github.io/hmm/\n"
   ]
  },
  {
   "cell_type": "markdown",
   "id": "b182026c",
   "metadata": {
    "slideshow": {
     "slide_type": "slide"
    }
   },
   "source": [
    "# Key ideas and words"
   ]
  },
  {
   "cell_type": "markdown",
   "id": "6ce62e8a",
   "metadata": {
    "slideshow": {
     "slide_type": "slide"
    }
   },
   "source": [
    "## Discrete HMM\n",
    "\n",
    "$$\n",
    "\\begin{align}\n",
    "p(y_{1:T}, z_{1:T} \\mid \\theta) \n",
    "&= \\overbrace{\\mathrm{Cat}(z_1 \\mid \\pi)}^{Prior for Initial State}\n",
    "\\underbrace{\\prod_{t=2}^T \\mathrm{Cat}(z_t \\mid A_{z_{t-1}})}_{Transition Model}\n",
    "\\overbrace{\\prod_{t=1}^T \\mathrm{Cat}(y_t \\mid B_{z_t})}^{Observation Model}\n",
    "\\end{align}\n",
    "$$\n"
   ]
  },
  {
   "cell_type": "markdown",
   "id": "75f8e583",
   "metadata": {
    "slideshow": {
     "slide_type": "slide"
    }
   },
   "source": [
    "## Terminology\n",
    "* Forward Filter - Estimating state probability using only \"seen\" data\n",
    "* Prediction - Estimating the next time step\n",
    "* Smoothing  Estimating state probability using all data\n",
    "  * Forward Backward Pass\n",
    "* Viterbi Algorithm - Max\n",
    "  * Sequence Assignment"
   ]
  },
  {
   "cell_type": "markdown",
   "id": "249e08c0",
   "metadata": {
    "slideshow": {
     "slide_type": "slide"
    }
   },
   "source": [
    "## Symbols\n",
    "\n",
    "https://github.com/canyon289/ssm_book_club/blob/hmms/SymbolList.md#nipunbatra-article"
   ]
  },
  {
   "cell_type": "markdown",
   "id": "986aced5",
   "metadata": {
    "slideshow": {
     "slide_type": "slide"
    }
   },
   "source": [
    "## Things that were challenging to me\n",
    "* Change of symbols between sources and withing texts\n",
    "  * Duplication of symbols in same text\n",
    "  * Python variable names that correlated to these terms\n",
    "* Differing usage of words\n",
    "* Ambiguous terms\n",
    "  * Especially in the code\n",
    "* Abstractions in Dynamax\n",
    "  * Required lots of tracing"
   ]
  },
  {
   "cell_type": "markdown",
   "id": "353cf75a",
   "metadata": {
    "slideshow": {
     "slide_type": "slide"
    }
   },
   "source": [
    "## Various Time dependencies ( or Lack thereof)\n",
    "* Things that are independent of time\n",
    "  * Transition Matrix\n",
    "  * Prior Probability\n",
    "  * Emission Prob assuming state\n",
    "  \n",
    "* Things dependent on a particular time window but independent of others\n",
    "  * Observations\n",
    "  * Log likelihood\n",
    "\n",
    "* Things that change over time\n",
    "  * State estimation\n",
    "  * Emission probability after updating state probability\n"
   ]
  },
  {
   "cell_type": "markdown",
   "id": "f636c911",
   "metadata": {
    "slideshow": {
     "slide_type": "slide"
    }
   },
   "source": [
    "## How I'm learning\n",
    "Referencing\n",
    "* External articles\n",
    "* ProbML book\n",
    "* Diving into the code\n",
    "* Writing my own mini examples"
   ]
  },
  {
   "cell_type": "markdown",
   "id": "1d12b415",
   "metadata": {
    "slideshow": {
     "slide_type": "slide"
    }
   },
   "source": [
    "## Applied Example, Filtering, Smoothing  - Biased coin toss"
   ]
  },
  {
   "cell_type": "code",
   "execution_count": 1,
   "id": "0aab565e",
   "metadata": {},
   "outputs": [],
   "source": [
    "import jax.numpy as jnp\n",
    "import jax.random as jr\n",
    "# import matplotlib.pyplot as plt\n",
    "from jax import vmap"
   ]
  },
  {
   "cell_type": "code",
   "execution_count": 2,
   "id": "30c9d44f",
   "metadata": {},
   "outputs": [
    {
     "name": "stdout",
     "output_type": "stream",
     "text": [
      "This a modified version of dynamax for the HMM Book club session\n",
      "Code can be found here https://github.com/canyon289/dynamax/tree/hmm_session\n"
     ]
    },
    {
     "name": "stderr",
     "output_type": "stream",
     "text": [
      "No GPU/TPU found, falling back to CPU. (Set TF_CPP_MIN_LOG_LEVEL=0 and rerun for more info.)\n"
     ]
    }
   ],
   "source": [
    "%load_ext autoreload\n",
    "%autoreload 2\n",
    "import dynamax\n",
    "from dynamax.hidden_markov_model import CategoricalHMM"
   ]
  },
  {
   "cell_type": "code",
   "execution_count": 3,
   "id": "4f44d370",
   "metadata": {},
   "outputs": [],
   "source": [
    "initial_probs = jnp.array([0.5, 0.5])\n",
    "\n",
    "transition_matrix = jnp.array([[1.0, 0.0],\n",
    "                               [0.0, 1.0]])"
   ]
  },
  {
   "cell_type": "code",
   "execution_count": 4,
   "id": "7500f474",
   "metadata": {},
   "outputs": [],
   "source": [
    "initial_probs = jnp.array([0.5, 0.5])\n",
    "\n",
    "transition_matrix = jnp.array([[1.0, 0.0],\n",
    "                               [0.0, 1.0]])"
   ]
  },
  {
   "cell_type": "code",
   "execution_count": 5,
   "id": "11124313",
   "metadata": {},
   "outputs": [],
   "source": [
    "num_states = 2      # two types of dice (fair and loaded)\n",
    "num_emissions = 1\n",
    "num_classes = 2"
   ]
  },
  {
   "cell_type": "code",
   "execution_count": 6,
   "id": "00162056",
   "metadata": {},
   "outputs": [],
   "source": [
    "emission_probs = jnp.array([[1/2,  1/2],    # fair die\n",
    "                            [1/10, 9/10]])  # loaded di"
   ]
  },
  {
   "cell_type": "code",
   "execution_count": 7,
   "id": "ee2fd561",
   "metadata": {},
   "outputs": [],
   "source": [
    "# A bunch of stuff happens here, like log likelihood calculations and such\n",
    "hmm = CategoricalHMM(num_states, num_emissions, num_classes)\n",
    "\n",
    "# Initialize the parameters struct with known values\n",
    "params, _ = hmm.initialize(initial_probs=initial_probs,\n",
    "                           transition_matrix=transition_matrix,\n",
    "                           emission_probs=emission_probs.reshape(num_states, num_emissions, num_classes))"
   ]
  },
  {
   "cell_type": "code",
   "execution_count": 8,
   "id": "a0fde3cc",
   "metadata": {},
   "outputs": [
    {
     "data": {
      "text/plain": [
       "(Array([1, 1, 1], dtype=int32),\n",
       " Array([[1],\n",
       "        [1],\n",
       "        [1]], dtype=int32))"
      ]
     },
     "execution_count": 8,
     "metadata": {},
     "output_type": "execute_result"
    }
   ],
   "source": [
    "num_timesteps = 3\n",
    "true_states, emissions = hmm.sample(params, jr.PRNGKey(42), num_timesteps)\n",
    "true_states, emissions"
   ]
  },
  {
   "cell_type": "code",
   "execution_count": 9,
   "id": "7b8a8c56",
   "metadata": {},
   "outputs": [
    {
     "name": "stdout",
     "output_type": "stream",
     "text": [
      "log_probs; [[-0.6931472  -0.10536057]\n",
      " [-0.6931472  -0.10536057]\n",
      " [-0.6931472  -0.10536057]]\n",
      "Iteration: 0\n",
      "predicted_probs: [0.5 0.5]\n",
      "Log Likelihood of emission given state: [-0.6931472  -0.10536057]\n",
      "Filtered probs: [0.35714287 0.64285713]\n",
      "Predicted probs: [0.35714287 0.64285713]\n",
      "\n",
      "\n",
      "Iteration: 1\n",
      "predicted_probs: [0.35714287 0.64285713]\n",
      "Log Likelihood of emission given state: [-0.6931472  -0.10536057]\n",
      "Filtered probs: [0.23584908 0.7641509 ]\n",
      "Predicted probs: [0.23584908 0.7641509 ]\n",
      "\n",
      "\n",
      "Iteration: 2\n",
      "predicted_probs: [0.23584908 0.7641509 ]\n",
      "Log Likelihood of emission given state: [-0.6931472  -0.10536057]\n",
      "Filtered probs: [0.14637005 0.85362995]\n",
      "Predicted probs: [0.14637005 0.85362995]\n",
      "\n",
      "\n"
     ]
    }
   ],
   "source": [
    "posterior = hmm.filter(params, emissions)"
   ]
  },
  {
   "cell_type": "markdown",
   "id": "0584dd97",
   "metadata": {
    "slideshow": {
     "slide_type": "slide"
    }
   },
   "source": [
    "## Log Likelihoods Verification\n",
    "Verify what we're seeing above"
   ]
  },
  {
   "cell_type": "code",
   "execution_count": 13,
   "id": "e3b7616b",
   "metadata": {},
   "outputs": [
    {
     "data": {
      "text/plain": [
       "array([-0.69314718, -0.10536052])"
      ]
     },
     "execution_count": 13,
     "metadata": {},
     "output_type": "execute_result"
    }
   ],
   "source": [
    "# Log likelihood verification\n",
    "from scipy import stats\n",
    "stats.bernoulli([.5, .9]).logpmf(1)"
   ]
  },
  {
   "cell_type": "markdown",
   "id": "b9b209e6",
   "metadata": {
    "slideshow": {
     "slide_type": "slide"
    }
   },
   "source": [
    "## Bayesian Update for Filtering\n",
    "Calculating Probability that we're in biased coin state after one coin toss\n",
    "\n",
    "$$p(Biased | one heads) = p(Biased | x=H) $$"
   ]
  },
  {
   "cell_type": "code",
   "execution_count": 17,
   "id": "e39cd73f",
   "metadata": {},
   "outputs": [
    {
     "data": {
      "text/plain": [
       "0.6428571428571429"
      ]
     },
     "execution_count": 17,
     "metadata": {},
     "output_type": "execute_result"
    }
   ],
   "source": [
    "# (Likelihood of heads  assumed biased) * prior/(total probability of heads)\n",
    "p_biased_state_one_heads = (.9*.5)/(.9*.5 + .5*.5)\n",
    "p_biased_state_one_heads"
   ]
  },
  {
   "cell_type": "code",
   "execution_count": 18,
   "id": "67423ce5",
   "metadata": {},
   "outputs": [
    {
     "data": {
      "text/plain": [
       "0.7641509433962265"
      ]
     },
     "execution_count": 18,
     "metadata": {},
     "output_type": "execute_result"
    }
   ],
   "source": [
    "(.9*p_biased_state_one_heads)/(.9*p_biased_state_one_heads + .5*(1-p_biased_state_one_heads))"
   ]
  },
  {
   "cell_type": "markdown",
   "id": "d7ba259a",
   "metadata": {},
   "source": [
    "Predicted probs stays the same because of filtering"
   ]
  },
  {
   "cell_type": "markdown",
   "id": "6d7108a8",
   "metadata": {
    "slideshow": {
     "slide_type": "slide"
    }
   },
   "source": [
    "### Non identity transition matrix"
   ]
  },
  {
   "cell_type": "code",
   "execution_count": 26,
   "id": "218be38c",
   "metadata": {},
   "outputs": [],
   "source": [
    "transition_matrix = jnp.array([[.5, .5],\n",
    "                               [0.0, 1.0]])"
   ]
  },
  {
   "cell_type": "code",
   "execution_count": 27,
   "id": "4775dbe9",
   "metadata": {},
   "outputs": [],
   "source": [
    "# Initialize the parameters struct with known values\n",
    "params, _ = hmm.initialize(initial_probs=initial_probs,\n",
    "                           transition_matrix=transition_matrix,\n",
    "                           emission_probs=emission_probs.reshape(num_states, num_emissions, num_classes))"
   ]
  },
  {
   "cell_type": "code",
   "execution_count": 28,
   "id": "eeb32d11",
   "metadata": {},
   "outputs": [
    {
     "name": "stdout",
     "output_type": "stream",
     "text": [
      "log_probs; [[-0.6931472  -0.10536057]\n",
      " [-0.6931472  -0.10536057]\n",
      " [-0.6931472  -0.10536057]]\n",
      "Iteration: 0\n",
      "predicted_probs: [0.5 0.5]\n",
      "Log Likelihood of emission given state: [-0.6931472  -0.10536057]\n",
      "Filtered probs: [0.35714287 0.64285713]\n",
      "Predicted probs: [0.17857143 0.82142854]\n",
      "\n",
      "\n",
      "Iteration: 1\n",
      "predicted_probs: [0.17857143 0.82142854]\n",
      "Log Likelihood of emission given state: [-0.6931472  -0.10536057]\n",
      "Filtered probs: [0.10775863 0.8922414 ]\n",
      "Predicted probs: [0.05387932 0.94612074]\n",
      "\n",
      "\n",
      "Iteration: 2\n",
      "predicted_probs: [0.05387932 0.94612074]\n",
      "Log Likelihood of emission given state: [-0.6931472  -0.10536057]\n",
      "Filtered probs: [0.03066732 0.96933264]\n",
      "Predicted probs: [0.01533366 0.9846663 ]\n",
      "\n",
      "\n"
     ]
    }
   ],
   "source": [
    "posterior = hmm.filter(params, emissions)"
   ]
  },
  {
   "cell_type": "markdown",
   "id": "5dfb988e",
   "metadata": {
    "slideshow": {
     "slide_type": "slide"
    }
   },
   "source": [
    "## Things I noticed in the code\n",
    "* Architecture of Dynamax\n",
    "* What is coming next\n",
    "* JAX usage"
   ]
  },
  {
   "cell_type": "markdown",
   "id": "085fcb19",
   "metadata": {
    "slideshow": {
     "slide_type": "slide"
    }
   },
   "source": [
    "## Computational complexity\n",
    "* Forward Algorithm $O(TK^{2})$\n",
    "  * Linear with time\n",
    "  * Quadratic with number of states"
   ]
  },
  {
   "cell_type": "markdown",
   "id": "3b1019c6",
   "metadata": {
    "slideshow": {
     "slide_type": "slide"
    }
   },
   "source": [
    "## JAX Speedups"
   ]
  },
  {
   "cell_type": "markdown",
   "id": "c2e52251",
   "metadata": {},
   "source": [
    "* Parallelization over independent time series\n",
    "* Gradient"
   ]
  },
  {
   "cell_type": "markdown",
   "id": "a18417bc",
   "metadata": {
    "slideshow": {
     "slide_type": "slide"
    }
   },
   "source": [
    "## Real World Example: Parts from a machine shop\n",
    "https://www.youtube.com/watch?v=OCc2F8KccD4\n"
   ]
  },
  {
   "cell_type": "markdown",
   "id": "9e863d53",
   "metadata": {
    "slideshow": {
     "slide_type": "slide"
    }
   },
   "source": [
    "### Questions asked of me\n",
    "* What state is the machine in? \n",
    "  * Are we going to get good parts or bad parts?\n",
    "* How often does it tend to switch?\n",
    "  * Once its good does it stay good, or is totally unreliable?\n",
    "* What is the probability of bad parts coming off this line?"
   ]
  },
  {
   "cell_type": "markdown",
   "id": "ffd20821",
   "metadata": {
    "slideshow": {
     "slide_type": "slide"
    }
   },
   "source": [
    "### Data\n",
    "* The order parts were produced from the machine\n",
    "* Which ones were good and which ones weren't\n",
    "* Parts from many machines"
   ]
  },
  {
   "cell_type": "markdown",
   "id": "c3b92282",
   "metadata": {},
   "source": [
    "### Use of HMM\n",
    "* **Smoothing** - What state(s) was the machine in over the last 7 days and when?\n",
    "  * Look for correlation such as shift changes time etc\n",
    "* **Parameter Estimation** - How faulty was the machine and when did it tend to switch?\n",
    "* **Filtering** - What state is the machine in now?"
   ]
  },
  {
   "cell_type": "markdown",
   "id": "c434e94c",
   "metadata": {
    "slideshow": {
     "slide_type": "slide"
    }
   },
   "source": [
    "## Useful Extensions for the above case\n",
    "* Covariate HMM\n",
    "* Autoregressive HMMs"
   ]
  },
  {
   "cell_type": "markdown",
   "id": "5571a2d3",
   "metadata": {
    "slideshow": {
     "slide_type": "slide"
    }
   },
   "source": [
    "## Other HMMs in dynamax"
   ]
  },
  {
   "cell_type": "markdown",
   "id": "8660fae7",
   "metadata": {},
   "source": [
    "* There are many more present\n",
    "  * https://probml.github.io/dynamax/api.html#high-level-models"
   ]
  },
  {
   "cell_type": "markdown",
   "id": "7ed5887e",
   "metadata": {
    "slideshow": {
     "slide_type": "slide"
    }
   },
   "source": [
    "## Takeaways"
   ]
  },
  {
   "cell_type": "markdown",
   "id": "81fa79c2",
   "metadata": {},
   "source": [
    "* For state estimation smoothing, filtering, and viterbi are all supported\n",
    "* Multiple methods for parameter estimation\n",
    "  * SGD\n",
    "  * Minibatch\n",
    "  * Expectation Maximization"
   ]
  },
  {
   "cell_type": "markdown",
   "id": "9fe96d0e",
   "metadata": {
    "slideshow": {
     "slide_type": "slide"
    }
   },
   "source": [
    "## (Refined) Book Club Focus\n",
    "* Practitioner that's looking to use the library\n",
    "  * Understand what exists\n",
    "  * How it works from \"the drivers seat\""
   ]
  },
  {
   "cell_type": "markdown",
   "id": "d7703802",
   "metadata": {
    "slideshow": {
     "slide_type": "slide"
    }
   },
   "source": [
    "### What you folks said\n",
    "* How do i convert a well estimated state space model into a compelling case for action or decision?\n",
    "* Using this as a forcing function to help learn more about state space models and work up to structural time series and causal impact\n",
    "* Fluency in expressing diverse state space models in python\n"
   ]
  },
  {
   "cell_type": "markdown",
   "id": "6559bd38",
   "metadata": {},
   "source": [
    "## Next Weeks Agenda\n",
    "* Finish off last two notebooks on State Space Models"
   ]
  }
 ],
 "metadata": {
  "celltoolbar": "Slideshow",
  "kernelspec": {
   "display_name": "Python 3 (ipykernel)",
   "language": "python",
   "name": "python3"
  },
  "language_info": {
   "codemirror_mode": {
    "name": "ipython",
    "version": 3
   },
   "file_extension": ".py",
   "mimetype": "text/x-python",
   "name": "python",
   "nbconvert_exporter": "python",
   "pygments_lexer": "ipython3",
   "version": "3.10.4"
  },
  "rise": {
   "auto_select": "none",
   "enable_chalkboard": true,
   "scroll": true
  }
 },
 "nbformat": 4,
 "nbformat_minor": 5
}
