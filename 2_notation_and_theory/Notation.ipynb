{
 "cells": [
  {
   "cell_type": "markdown",
   "id": "cba7c90b",
   "metadata": {
    "slideshow": {
     "slide_type": "slide"
    }
   },
   "source": [
    "# How I Learn Notation"
   ]
  },
  {
   "cell_type": "markdown",
   "id": "d1f20832",
   "metadata": {
    "slideshow": {
     "slide_type": "slide"
    }
   },
   "source": [
    "## Why Notation"
   ]
  },
  {
   "cell_type": "markdown",
   "id": "9012973e",
   "metadata": {},
   "source": [
    "1. It's the most compact and precise way to represent math\n",
    "2. There's no way to avoid it with the texts we've picked"
   ]
  },
  {
   "cell_type": "markdown",
   "id": "994f707c",
   "metadata": {
    "slideshow": {
     "slide_type": "slide"
    }
   },
   "source": [
    "## Full State Space Model Equation"
   ]
  },
  {
   "cell_type": "markdown",
   "id": "9cb901e5",
   "metadata": {},
   "source": [
    "$$p(y_{1:T}, z_{1:T} | u_{1:T}) = p(z_1 | u_1) p(y_1 | z_1, u_1) \\prod_{t=1}^T p(z_t | z_{t-1}, u_t) p(y_t | z_t, u_t)$$"
   ]
  },
  {
   "cell_type": "markdown",
   "id": "df58f3ca",
   "metadata": {},
   "source": [
    "ProbML Equation 29.5"
   ]
  },
  {
   "cell_type": "markdown",
   "id": "9c0a2cab",
   "metadata": {
    "slideshow": {
     "slide_type": "slide"
    }
   },
   "source": [
    "## Bayes Theorem"
   ]
  },
  {
   "cell_type": "markdown",
   "id": "bc55a43f",
   "metadata": {},
   "source": [
    "$$ \\underbrace{p(\\boldsymbol{\\theta} \\mid \\boldsymbol{Y})}_{\\text{posterior}} = \\frac{\\overbrace{p(\\boldsymbol{Y} \\mid \\boldsymbol{\\theta})}^{\\text{likelihood}}; \\overbrace{p(\\boldsymbol{\\theta})}^{\\text{prior}}}{\\underbrace{{{\\int_{\\boldsymbol{\\Theta}} p(\\boldsymbol{Y} \\mid \\boldsymbol{\\theta})p(\\boldsymbol{\\theta}) d\\boldsymbol{\\theta}}}}_{\\text{marginal likelihood}}} $$"
   ]
  },
  {
   "cell_type": "markdown",
   "id": "8648ac10",
   "metadata": {
    "slideshow": {
     "slide_type": "slide"
    }
   },
   "source": [
    "## My steps"
   ]
  },
  {
   "cell_type": "markdown",
   "id": "48d89271",
   "metadata": {},
   "source": [
    "1. Understand the fundamental philosophy\n",
    "2. Find the simplest applied example\n",
    "  * Typically in code\n",
    "3. Implement it myself\n",
    "4. Add complexity one step at a time"
   ]
  },
  {
   "cell_type": "markdown",
   "id": "609a0515",
   "metadata": {
    "slideshow": {
     "slide_type": "fragment"
    }
   },
   "source": [
    "This is what we did just did for Bayes Theorem"
   ]
  },
  {
   "cell_type": "markdown",
   "id": "d55ebc65",
   "metadata": {
    "slideshow": {
     "slide_type": "slide"
    }
   },
   "source": [
    "## Bayes Theorem Simplified"
   ]
  },
  {
   "cell_type": "markdown",
   "id": "92beccd8",
   "metadata": {},
   "source": [
    "$$\n",
    "\\text{Posterior} = \\frac{\\text{Likelihood} ; * \\text{Prior}}{\\text{Marginal-Likelihood}}\n",
    "$$"
   ]
  },
  {
   "cell_type": "markdown",
   "id": "3515b654",
   "metadata": {
    "slideshow": {
     "slide_type": "fragment"
    }
   },
   "source": [
    "From there we built back up to Linear Regression"
   ]
  },
  {
   "cell_type": "markdown",
   "id": "a1687474",
   "metadata": {
    "slideshow": {
     "slide_type": "slide"
    }
   },
   "source": [
    "## Things I looks for"
   ]
  },
  {
   "cell_type": "markdown",
   "id": "c786a801",
   "metadata": {},
   "source": [
    "1. What type of math am I dealing with?\n",
    "  * Probability\n",
    "  * Distributions\n",
    "  * Integrals etc\n",
    "2. Figure out what's a scalar, vector, matrix\n",
    "  * Figure out whats a real number, indicator, random variable\n",
    "3. Pay attention to shapes"
   ]
  },
  {
   "cell_type": "markdown",
   "id": "823f0460",
   "metadata": {
    "slideshow": {
     "slide_type": "slide"
    }
   },
   "source": [
    "## State Space Model Simplified Version"
   ]
  },
  {
   "cell_type": "markdown",
   "id": "cdeabe14",
   "metadata": {},
   "source": [
    "$$\n",
    "\\begin{align}\n",
    "p(y_{1:T}, z_{1:T} \\mid \\theta) \n",
    "&= \\mathrm{Cat}(z_1 \\mid \\pi) \n",
    "\\prod_{t=2}^T \\mathrm{Cat}(z_t \\mid A_{z_{t-1}}) \n",
    "\\prod_{t=1}^T \\mathrm{Cat}(y_t \\mid B_{z_t})\n",
    "\\end{align}\n",
    "$$"
   ]
  },
  {
   "cell_type": "markdown",
   "id": "8ad8f343",
   "metadata": {
    "slideshow": {
     "slide_type": "slide"
    }
   },
   "source": [
    "## What I suggest for you"
   ]
  },
  {
   "cell_type": "markdown",
   "id": "2322c5c9",
   "metadata": {},
   "source": [
    "1. Develop a strategy that works for you\n",
    "  * Use mine, or find the combination that works for you\n",
    "2. Utilize code, examples, notecards whatever\n",
    "  * Use the SSM community\n",
    "3. Don't get frustrated, you can do it\n",
    "  * It's like learning a new language"
   ]
  },
  {
   "cell_type": "markdown",
   "id": "72ab1c5a",
   "metadata": {
    "slideshow": {
     "slide_type": "slide"
    }
   },
   "source": [
    "## Recap\n",
    "* Notation can be challenging but is important\n",
    "* Break it down one step at a time\n",
    "* Learn the meaning not just the symbols\n",
    "* Building things in code really help me\n"
   ]
  }
 ],
 "metadata": {
  "celltoolbar": "Slideshow",
  "jupytext": {
   "formats": "ipynb,md"
  },
  "kernelspec": {
   "display_name": "Python 3 (ipykernel)",
   "language": "python",
   "name": "python3"
  },
  "language_info": {
   "codemirror_mode": {
    "name": "ipython",
    "version": 3
   },
   "file_extension": ".py",
   "mimetype": "text/x-python",
   "name": "python",
   "nbconvert_exporter": "python",
   "pygments_lexer": "ipython3",
   "version": "3.10.4"
  },
  "rise": {
   "auto_select": "none",
   "enable_chalkboard": true,
   "scroll": true
  }
 },
 "nbformat": 4,
 "nbformat_minor": 5
}
